{
 "cells": [
  {
   "cell_type": "code",
   "execution_count": 1,
   "metadata": {},
   "outputs": [],
   "source": [
    "import nltk\n",
    "import numpy as np\n",
    "import pandas as pd\n",
    "import string\n",
    "import re \n",
    "import time \n",
    "from collections import Counter\n",
    "import matplotlib.pyplot as plt\n",
    "import json\n",
    "from sklearn.preprocessing import StandardScaler\n",
    "from sklearn.cluster import KMeans\n",
    "import calendar\n",
    "from sklearn.preprocessing import MinMaxScaler \n",
    "import seaborn as sns\n",
    "from sklearn.ensemble import RandomForestClassifier\n",
    "from sklearn.feature_selection import SelectKBest, chi2\n",
    "from sklearn.ensemble import ExtraTreesClassifier\n"
   ]
  },
  {
   "cell_type": "code",
   "execution_count": 2,
   "metadata": {},
   "outputs": [],
   "source": [
    "orig_bets_encrypted = pd.read_csv('bets_encrypted_clnd.csv')\n",
    "orig_tag_changes = pd.read_csv('tag_changes_clnd.csv')\n",
    "\n",
    "bets_encrypted = orig_bets_encrypted.copy()\n",
    "tag_changes = orig_tag_changes.copy()"
   ]
  },
  {
   "attachments": {},
   "cell_type": "markdown",
   "metadata": {},
   "source": [
    "# MERGING DATAFRAMES\n",
    "##### Merging on encrypted_user_no, entries before any valid insert_date are assigned a value of one."
   ]
  },
  {
   "cell_type": "code",
   "execution_count": 3,
   "metadata": {},
   "outputs": [
    {
     "name": "stdout",
     "output_type": "stream",
     "text": [
      "-480.20638888888885\n",
      "2666\n"
     ]
    }
   ],
   "source": [
    "print(bets_encrypted['hours_to_event'].min())\n",
    "print(bets_encrypted['hours_to_event'][bets_encrypted['hours_to_event']<0].nunique())"
   ]
  },
  {
   "cell_type": "code",
   "execution_count": 4,
   "metadata": {},
   "outputs": [
    {
     "name": "stderr",
     "output_type": "stream",
     "text": [
      "/var/folders/yz/86sy0w0519d250z0rfq2qx5w0000gp/T/ipykernel_39209/1058456154.py:30: FutureWarning: Not prepending group keys to the result index of transform-like apply. In the future, the group keys will be included in the index, regardless of whether the applied function returns a like-indexed object.\n",
      "To preserve the previous behavior, use\n",
      "\n",
      "\t>>> .groupby(..., group_keys=False)\n",
      "\n",
      "To adopt the future behavior and silence this warning, use \n",
      "\n",
      "\t>>> .groupby(..., group_keys=True)\n",
      "  merged_df = merged_df.groupby('encrypted_user_no').apply(adjust_values)\n"
     ]
    }
   ],
   "source": [
    "# merging so that riskexposure is filled based on timestamp of bet\n",
    "\n",
    "copy_tag_changes = orig_tag_changes.copy()\n",
    "copy_bets_encrypted = orig_bets_encrypted.copy()\n",
    "\n",
    "# Convert date columns to datetime format\n",
    "copy_bets_encrypted['betTimestamp'] = pd.to_datetime(copy_bets_encrypted['betTimestamp'])\n",
    "copy_tag_changes['insert_date'] = pd.to_datetime(copy_tag_changes['insert_date'])\n",
    "\n",
    "# Sort dataframes by respective timestamp columns\n",
    "copy_bets_encrypted = copy_bets_encrypted.sort_values(['betTimestamp'])\n",
    "copy_tag_changes = copy_tag_changes.sort_values(['insert_date'])\n",
    "\n",
    "# Filter copy_bets_encrypted to only include rows that have a encrypted_user_no in copy_tag_changes\n",
    "copy_bets_encrypted = copy_bets_encrypted[copy_bets_encrypted['encrypted_user_no'].isin(copy_tag_changes['encrypted_user_no'])]\n",
    "\n",
    "# Only merge if betTimestamp >= insert_date, otherwise all entries before first insert_date are assigned 1\n",
    "merged_df = pd.merge_asof(copy_bets_encrypted, \n",
    "                          copy_tag_changes[['insert_date', 'encrypted_user_no', 'riskexposureprematch']],\n",
    "                          left_on='betTimestamp', \n",
    "                          right_on='insert_date', \n",
    "                          by='encrypted_user_no', \n",
    "                          direction='backward')\n",
    "\n",
    "def adjust_values(df):\n",
    "    df['riskexposureprematch'] = df['riskexposureprematch'].ffill()\n",
    "    df['riskexposureprematch'].fillna(1, inplace=True)\n",
    "    return df\n",
    "\n",
    "merged_df = merged_df.groupby('encrypted_user_no').apply(adjust_values)"
   ]
  },
  {
   "cell_type": "code",
   "execution_count": 5,
   "metadata": {},
   "outputs": [
    {
     "data": {
      "text/plain": [
       "Index(['betTimestamp', 'odds_units', 'stake_gbp', 'count_legs',\n",
       "       'hours_to_event', 'betDate', 'edge', 'encrypted_user_no', 'insert_date',\n",
       "       'riskexposureprematch'],\n",
       "      dtype='object')"
      ]
     },
     "execution_count": 5,
     "metadata": {},
     "output_type": "execute_result"
    }
   ],
   "source": [
    "merged_df.columns"
   ]
  },
  {
   "cell_type": "code",
   "execution_count": 6,
   "metadata": {},
   "outputs": [
    {
     "data": {
      "text/plain": [
       "(2635574, 10)"
      ]
     },
     "execution_count": 6,
     "metadata": {},
     "output_type": "execute_result"
    }
   ],
   "source": [
    "merged_df.shape"
   ]
  },
  {
   "cell_type": "code",
   "execution_count": 7,
   "metadata": {},
   "outputs": [],
   "source": [
    "### Remove duplicated bets with two riskexposureprematch lower than it\n",
    "\n",
    "# Sort the dataframe by 'encrypted_user_no', 'betTimestamp', and 'insert_date' in descending order\n",
    "merged_df = merged_df.sort_values(by=['encrypted_user_no', 'betTimestamp', 'insert_date'], ascending=[True, False, False])\n",
    "\n",
    "# Drop duplicate rows keeping the first occurrence (latest 'riskexposureprematch' according to 'insert_date' for each bet)\n",
    "merged_df = merged_df.drop_duplicates(subset=['encrypted_user_no', 'odds_units', 'stake_gbp', 'count_legs',\n",
    "       'hours_to_event', 'betDate', 'edge'], keep='first')"
   ]
  },
  {
   "cell_type": "code",
   "execution_count": 8,
   "metadata": {},
   "outputs": [],
   "source": [
    "# drop duplicates\n",
    "merged_df = merged_df.drop_duplicates()"
   ]
  },
  {
   "cell_type": "code",
   "execution_count": 9,
   "metadata": {},
   "outputs": [
    {
     "data": {
      "text/plain": [
       "(2479352, 10)"
      ]
     },
     "execution_count": 9,
     "metadata": {},
     "output_type": "execute_result"
    }
   ],
   "source": [
    "merged_df.shape"
   ]
  },
  {
   "cell_type": "code",
   "execution_count": 10,
   "metadata": {},
   "outputs": [
    {
     "data": {
      "text/plain": [
       "betTimestamp            datetime64[ns]\n",
       "odds_units                     float64\n",
       "stake_gbp                      float64\n",
       "count_legs                       int64\n",
       "hours_to_event                 float64\n",
       "betDate                         object\n",
       "edge                           float64\n",
       "encrypted_user_no               object\n",
       "insert_date             datetime64[ns]\n",
       "riskexposureprematch           float64\n",
       "dtype: object"
      ]
     },
     "execution_count": 10,
     "metadata": {},
     "output_type": "execute_result"
    }
   ],
   "source": [
    "merged_df.dtypes"
   ]
  },
  {
   "cell_type": "code",
   "execution_count": 11,
   "metadata": {},
   "outputs": [],
   "source": [
    "### Get difference between bets sequentially\n",
    "\n",
    "cols_to_diff = ['betTimestamp', 'odds_units', 'stake_gbp', 'count_legs',\n",
    "       'hours_to_event', 'riskexposureprematch']  \n",
    "\n",
    "for col in cols_to_diff:\n",
    "    merged_df[col + '_diff'] = merged_df.groupby('encrypted_user_no')[col].diff()\n",
    "\n",
    "merged_df['betTimestamp_diff'] = merged_df['betTimestamp_diff'].fillna(pd.Timedelta(seconds=0))\n",
    "merged_df['betTimestamp_diff'] = merged_df['betTimestamp_diff'].dt.total_seconds()"
   ]
  },
  {
   "cell_type": "code",
   "execution_count": 12,
   "metadata": {},
   "outputs": [
    {
     "data": {
      "text/plain": [
       "betTimestamp                 datetime64[ns]\n",
       "odds_units                          float64\n",
       "stake_gbp                           float64\n",
       "count_legs                            int64\n",
       "hours_to_event                      float64\n",
       "betDate                              object\n",
       "edge                                float64\n",
       "encrypted_user_no                    object\n",
       "insert_date                  datetime64[ns]\n",
       "riskexposureprematch                float64\n",
       "betTimestamp_diff                   float64\n",
       "odds_units_diff                     float64\n",
       "stake_gbp_diff                      float64\n",
       "count_legs_diff                     float64\n",
       "hours_to_event_diff                 float64\n",
       "riskexposureprematch_diff           float64\n",
       "dtype: object"
      ]
     },
     "execution_count": 12,
     "metadata": {},
     "output_type": "execute_result"
    }
   ],
   "source": [
    "merged_df.dtypes"
   ]
  },
  {
   "cell_type": "code",
   "execution_count": 13,
   "metadata": {},
   "outputs": [],
   "source": [
    "merged_df.drop_duplicates(inplace=True)"
   ]
  },
  {
   "cell_type": "code",
   "execution_count": 14,
   "metadata": {},
   "outputs": [],
   "source": [
    "\n",
    "# sort by user and betTimestamp\n",
    "merged_df = merged_df.sort_values(by=['encrypted_user_no', 'betTimestamp'])\n",
    "\n",
    "### Adding total bet count\n",
    "merged_df['total_bets'] = merged_df.groupby('encrypted_user_no')['betTimestamp'].transform('count')\n",
    "\n",
    "### Adding avg riskexposureprematch\n",
    "merged_df['avg_riskexposureprematch'] = merged_df.groupby('encrypted_user_no')['riskexposureprematch'].transform('mean')\n",
    "\n",
    "### Adding avg odds_units\n",
    "merged_df['avg_odds_units'] = merged_df.groupby('encrypted_user_no')['odds_units'].transform('mean')\n",
    "\n",
    "### Adding avg stake_gbp\n",
    "merged_df['avg_stake_gbp'] = merged_df.groupby('encrypted_user_no')['stake_gbp'].transform('mean')\n",
    "\n",
    "### Adding total stake_gbp\n",
    "merged_df['total_stake_gbp'] = merged_df.groupby('encrypted_user_no')['stake_gbp'].transform('sum')\n",
    "\n",
    "### Adding month, day, hour and day of week\n",
    "merged_df['month'] = merged_df['betTimestamp'].dt.month\n",
    "merged_df['day'] = merged_df['betTimestamp'].dt.day\n",
    "merged_df['day_of_week'] = merged_df['betTimestamp'].dt.dayofweek\n",
    "merged_df['hour'] = merged_df['betTimestamp'].dt.hour"
   ]
  },
  {
   "cell_type": "code",
   "execution_count": 15,
   "metadata": {},
   "outputs": [
    {
     "name": "stderr",
     "output_type": "stream",
     "text": [
      "/var/folders/yz/86sy0w0519d250z0rfq2qx5w0000gp/T/ipykernel_39209/1190811371.py:12: FutureWarning: Not prepending group keys to the result index of transform-like apply. In the future, the group keys will be included in the index, regardless of whether the applied function returns a like-indexed object.\n",
      "To preserve the previous behavior, use\n",
      "\n",
      "\t>>> .groupby(..., group_keys=False)\n",
      "\n",
      "To adopt the future behavior and silence this warning, use \n",
      "\n",
      "\t>>> .groupby(..., group_keys=True)\n",
      "  merged_df = merged_df.groupby('encrypted_user_no').apply(count_reset)\n"
     ]
    }
   ],
   "source": [
    "### Add num bets before change in riskexposureprematch\n",
    "\n",
    "# Sort DataFrame\n",
    "merged_df = merged_df.sort_values(by=['encrypted_user_no', 'betTimestamp'])\n",
    "\n",
    "# Define a function to return series of counts that resets when riskexposureprematch changes\n",
    "def count_reset(df):\n",
    "    df['bet_sequence_count'] = (df['riskexposureprematch'] != df['riskexposureprematch'].shift()).cumsum()\n",
    "    return df\n",
    "\n",
    "# Apply the function to each user's data\n",
    "merged_df = merged_df.groupby('encrypted_user_no').apply(count_reset)\n",
    "\n",
    "# Now, 'bet_count_before_risk_change' marks each separate \"run\" of unchanging riskexposureprematch per user.\n",
    "# We want to transform that into the size of the group it identifies:\n",
    "merged_df['total_bets_in_sequence'] = merged_df.groupby(['encrypted_user_no', 'bet_sequence_count']).transform('size')\n",
    "\n",
    "# Instead of transform('size'), we will use cumcount() + 1 (as cumcount starts at 0) to get running count of bets\n",
    "merged_df['bet_sequence_count'] = merged_df.groupby(['encrypted_user_no', 'total_bets_in_sequence']).cumcount() + 1\n"
   ]
  },
  {
   "cell_type": "code",
   "execution_count": 16,
   "metadata": {},
   "outputs": [],
   "source": [
    "merged_df = merged_df.sort_values(by=['encrypted_user_no', 'betTimestamp'])\n",
    "\n",
    "### Adding total bet count up until that bet\n",
    "merged_df['total_bets_until_now'] = merged_df.groupby('encrypted_user_no').cumcount() + 1\n",
    "\n",
    "### Adding avg riskexposureprematch up until that bet\n",
    "merged_df['avg_riskexposureprematch_until_now'] = merged_df.groupby('encrypted_user_no')['riskexposureprematch'].expanding().mean().reset_index(level=0, drop=True)\n",
    "\n",
    "### Adding avg odds_units up until that bet\n",
    "merged_df['avg_odds_units_until_now'] = merged_df.groupby('encrypted_user_no')['odds_units'].expanding().mean().reset_index(level=0, drop=True)\n",
    "\n",
    "### Adding avg count_legs up until that bet\n",
    "merged_df['avg_count_legs_until_now'] = merged_df.groupby('encrypted_user_no')['count_legs'].expanding().mean().reset_index(level=0, drop=True)\n",
    "\n",
    "### Adding avg stake_gbp up until that bet\n",
    "merged_df['avg_stake_gbp_until_now'] = merged_df.groupby('encrypted_user_no')['stake_gbp'].expanding().mean().reset_index(level=0, drop=True)\n",
    "\n",
    "### Adding total stake_gbp up until that bet\n",
    "merged_df['total_stake_gbp_until_now'] = merged_df.groupby('encrypted_user_no')['stake_gbp'].cumsum()\n"
   ]
  },
  {
   "cell_type": "code",
   "execution_count": 17,
   "metadata": {},
   "outputs": [
    {
     "name": "stderr",
     "output_type": "stream",
     "text": [
      "/var/folders/yz/86sy0w0519d250z0rfq2qx5w0000gp/T/ipykernel_39209/2378219878.py:16: FutureWarning: Not prepending group keys to the result index of transform-like apply. In the future, the group keys will be included in the index, regardless of whether the applied function returns a like-indexed object.\n",
      "To preserve the previous behavior, use\n",
      "\n",
      "\t>>> .groupby(..., group_keys=False)\n",
      "\n",
      "To adopt the future behavior and silence this warning, use \n",
      "\n",
      "\t>>> .groupby(..., group_keys=True)\n",
      "  merged_df = merged_df.groupby('encrypted_user_no').apply(calculate_std)\n"
     ]
    }
   ],
   "source": [
    "### Adding standard deviation of each sequence\n",
    "# Sort the DataFrame by 'encrypted_user_no', 'betTimestamp', and 'insert_date'\n",
    "merged_df = merged_df.sort_values(by=['encrypted_user_no', 'betTimestamp', 'insert_date'])\n",
    "\n",
    "# Create a new column to store the standard deviation\n",
    "merged_df['std_stake_gbp_until_now'] = np.nan\n",
    "\n",
    "# Define a function to calculate the standard deviation for each user until that point in time\n",
    "def calculate_std(df):\n",
    "    if len(df) > 1:\n",
    "        std = df['stake_gbp'].std()\n",
    "        df['std_stake_gbp_until_now'] = std\n",
    "    return df\n",
    "\n",
    "# Apply the function to each user's data until that point in time (grouped by 'encrypted_user_no')\n",
    "merged_df = merged_df.groupby('encrypted_user_no').apply(calculate_std)\n"
   ]
  },
  {
   "cell_type": "code",
   "execution_count": 18,
   "metadata": {},
   "outputs": [],
   "source": [
    "### Add number of bets in last 1/2/3/4 weeks\n",
    "merged_df = merged_df.sort_values(by=['encrypted_user_no', 'betTimestamp'])\n",
    "\n",
    "# Ensure betTimestamp is in datetime format\n",
    "merged_df['betTimestamp'] = pd.to_datetime(merged_df['betTimestamp'])\n",
    "\n",
    "# Sort by 'encrypted_user_no' and 'betTimestamp'\n",
    "merged_df.sort_values(by=['encrypted_user_no', 'betTimestamp'], inplace=True)\n",
    "\n",
    "# Convert the 'betTimestamp' to the index\n",
    "merged_df.set_index('betTimestamp', inplace=True)\n",
    "\n",
    "# Define the time periods\n",
    "weeks = [1, 2, 3, 4]\n",
    "\n",
    "# For each time period, calculate the rolling count of bets for each user\n",
    "for week in weeks:\n",
    "    merged_df[f'bets_in_last_{week}_week(s)'] = (merged_df.groupby('encrypted_user_no')['total_bets']\n",
    "                                                 .rolling(f'{week*7}D').count().values)\n",
    "\n",
    "# Reset the index\n",
    "merged_df.reset_index(inplace=True)"
   ]
  },
  {
   "cell_type": "code",
   "execution_count": 19,
   "metadata": {},
   "outputs": [],
   "source": [
    "### Add number of sequences of bets with same riskexposureprematch\n",
    "\n",
    "# Sort the dataframe by 'encrypted_user_no' and 'betTimestamp'\n",
    "merged_df.sort_values(by=['encrypted_user_no', 'betTimestamp'])\n",
    "\n",
    "# Group the dataframe by 'encrypted_user_no'\n",
    "grouped = merged_df.groupby('encrypted_user_no')\n",
    "\n",
    "# Calculate the cumulative sum of changes in 'riskexposureprematch' for each group\n",
    "change_count = (grouped['riskexposureprematch'].shift() != merged_df['riskexposureprematch']).cumsum()\n",
    "\n",
    "# Assign the calculated change count to the 'riskexposure_change_count' column\n",
    "merged_df['num_sequences_until_now'] = change_count"
   ]
  },
  {
   "cell_type": "code",
   "execution_count": 20,
   "metadata": {},
   "outputs": [],
   "source": [
    "### Adding total bets in previous sequence\n",
    "\n",
    "# Sort the DataFrame by 'encrypted_user_no' and 'betTimestamp'\n",
    "merged_df = merged_df.sort_values(by=['encrypted_user_no', 'betTimestamp'])\n",
    "\n",
    "# Identify the rows where 'riskexposureprematch' changes\n",
    "risk_exposure_changes = merged_df['riskexposureprematch'].ne(merged_df['riskexposureprematch'].shift())\n",
    "\n",
    "# Calculate the total bets in the previous sequence using cumulative sum\n",
    "merged_df['num_bets_in_prev_sequence'] = merged_df['total_bets_until_now'].where(risk_exposure_changes).groupby(merged_df['encrypted_user_no']).ffill()\n",
    "\n",
    "# Fill the remaining NaN values with 0\n",
    "merged_df['num_bets_in_prev_sequence'].fillna(0, inplace=True)"
   ]
  },
  {
   "cell_type": "code",
   "execution_count": 21,
   "metadata": {},
   "outputs": [],
   "source": [
    "### Add time difference between changes in riskexposureprematch\n",
    "\n",
    "# Sort the DataFrame by 'encrypted_user_no' and 'insert_date'\n",
    "merged_df = merged_df.sort_values(by=['encrypted_user_no', 'betTimestamp', 'insert_date'])\n",
    "\n",
    "# Identify the rows where 'riskexposureprematch' changes\n",
    "risk_exposure_changes = merged_df['riskexposureprematch'].ne(merged_df['riskexposureprematch'].shift())\n",
    "\n",
    "# Create a new column to store the 'insert_date' of different 'riskexposureprematch' values\n",
    "merged_df['risk_change_insert_date'] = merged_df['insert_date'].where(risk_exposure_changes)\n",
    "\n",
    "# Forward-fill the 'risk_change_insert_date' values within each 'encrypted_user_no' group\n",
    "merged_df['risk_change_insert_date'] = merged_df.groupby('encrypted_user_no')['risk_change_insert_date'].ffill()\n",
    "\n",
    "# Calculate the time differences in hours between the 'insert_date' and 'risk_change_insert_date'\n",
    "merged_df['time_diff_of_riskexposure'] = (merged_df['insert_date'] - merged_df['risk_change_insert_date']).dt.total_seconds().fillna(0)\n",
    "\n",
    "# Drop the 'risk_change_insert_date' column if not needed anymore\n",
    "merged_df.drop('risk_change_insert_date', axis=1, inplace=True)\n"
   ]
  },
  {
   "cell_type": "code",
   "execution_count": 22,
   "metadata": {},
   "outputs": [],
   "source": [
    "# Keep rows where 'hours_to_event' is more than 0 (4410 are now)\n",
    "merged_df = merged_df[merged_df['hours_to_event']>0]"
   ]
  },
  {
   "cell_type": "code",
   "execution_count": 23,
   "metadata": {},
   "outputs": [
    {
     "name": "stdout",
     "output_type": "stream",
     "text": [
      "Index(['betTimestamp', 'odds_units', 'stake_gbp', 'count_legs',\n",
      "       'hours_to_event', 'betDate', 'edge', 'encrypted_user_no', 'insert_date',\n",
      "       'riskexposureprematch', 'betTimestamp_diff', 'odds_units_diff',\n",
      "       'stake_gbp_diff', 'count_legs_diff', 'hours_to_event_diff',\n",
      "       'riskexposureprematch_diff', 'total_bets', 'avg_riskexposureprematch',\n",
      "       'avg_odds_units', 'avg_stake_gbp', 'total_stake_gbp', 'month', 'day',\n",
      "       'day_of_week', 'hour', 'bet_sequence_count', 'total_bets_in_sequence',\n",
      "       'total_bets_until_now', 'avg_riskexposureprematch_until_now',\n",
      "       'avg_odds_units_until_now', 'avg_count_legs_until_now',\n",
      "       'avg_stake_gbp_until_now', 'total_stake_gbp_until_now',\n",
      "       'std_stake_gbp_until_now', 'bets_in_last_1_week(s)',\n",
      "       'bets_in_last_2_week(s)', 'bets_in_last_3_week(s)',\n",
      "       'bets_in_last_4_week(s)', 'num_sequences_until_now',\n",
      "       'num_bets_in_prev_sequence', 'time_diff_of_riskexposure'],\n",
      "      dtype='object')\n",
      "(2476065, 41)\n"
     ]
    }
   ],
   "source": [
    "print(merged_df.columns)\n",
    "print(merged_df.shape)"
   ]
  },
  {
   "cell_type": "code",
   "execution_count": 24,
   "metadata": {},
   "outputs": [
    {
     "data": {
      "text/plain": [
       "(2476065, 41)"
      ]
     },
     "execution_count": 24,
     "metadata": {},
     "output_type": "execute_result"
    }
   ],
   "source": [
    "merged_df.drop_duplicates(inplace=True)\n",
    "merged_df.shape"
   ]
  },
  {
   "cell_type": "code",
   "execution_count": 31,
   "metadata": {},
   "outputs": [],
   "source": [
    "# There are NaN values in the delta columns since the first bet made by a user will not have any previous bets to\n",
    "# create a delta from. Hence the value for the delta of the first bet of each user will be set to 0.\n",
    "\n",
    "# Iterate through the columns, and if the column name ends with '_diff', fill NaN values with 0\n",
    "# Assuming 'data' is your DataFrame\n",
    "cols_to_fill = [col for col in merged_df.columns if col.endswith('_diff') or col == 'std_stake_gbp_until_now']\n",
    "\n",
    "# Fill NaN values with 0 for the specified columns\n",
    "merged_df[cols_to_fill] = merged_df[cols_to_fill].fillna(0)"
   ]
  },
  {
   "cell_type": "code",
   "execution_count": 32,
   "metadata": {},
   "outputs": [
    {
     "name": "stdout",
     "output_type": "stream",
     "text": [
      "Empty DataFrame\n",
      "Columns: [encrypted_user_no]\n",
      "Index: []\n"
     ]
    }
   ],
   "source": [
    "# Check that none of the features to be used contain NaN values\n",
    "cols_with_nan = merged_df.isna().any()\n",
    "cols_with_nan['encrypted_user_no'] = True\n",
    "cols_with_nan['insert_date'] = False\n",
    "nan_cols_df = merged_df.loc[:, cols_with_nan]\n",
    "rows_with_nan_in_cols = nan_cols_df[nan_cols_df.isna().any(axis=1)]\n",
    "print(rows_with_nan_in_cols)"
   ]
  },
  {
   "cell_type": "code",
   "execution_count": 34,
   "metadata": {},
   "outputs": [
    {
     "name": "stdout",
     "output_type": "stream",
     "text": [
      "(2476065, 41)\n"
     ]
    },
    {
     "data": {
      "text/html": [
       "<div>\n",
       "<style scoped>\n",
       "    .dataframe tbody tr th:only-of-type {\n",
       "        vertical-align: middle;\n",
       "    }\n",
       "\n",
       "    .dataframe tbody tr th {\n",
       "        vertical-align: top;\n",
       "    }\n",
       "\n",
       "    .dataframe thead th {\n",
       "        text-align: right;\n",
       "    }\n",
       "</style>\n",
       "<table border=\"1\" class=\"dataframe\">\n",
       "  <thead>\n",
       "    <tr style=\"text-align: right;\">\n",
       "      <th></th>\n",
       "      <th>betTimestamp</th>\n",
       "      <th>odds_units</th>\n",
       "      <th>stake_gbp</th>\n",
       "      <th>count_legs</th>\n",
       "      <th>hours_to_event</th>\n",
       "      <th>betDate</th>\n",
       "      <th>edge</th>\n",
       "      <th>encrypted_user_no</th>\n",
       "      <th>insert_date</th>\n",
       "      <th>riskexposureprematch</th>\n",
       "      <th>...</th>\n",
       "      <th>avg_stake_gbp_until_now</th>\n",
       "      <th>total_stake_gbp_until_now</th>\n",
       "      <th>std_stake_gbp_until_now</th>\n",
       "      <th>bets_in_last_1_week(s)</th>\n",
       "      <th>bets_in_last_2_week(s)</th>\n",
       "      <th>bets_in_last_3_week(s)</th>\n",
       "      <th>bets_in_last_4_week(s)</th>\n",
       "      <th>num_sequences_until_now</th>\n",
       "      <th>num_bets_in_prev_sequence</th>\n",
       "      <th>time_diff_of_riskexposure</th>\n",
       "    </tr>\n",
       "  </thead>\n",
       "  <tbody>\n",
       "    <tr>\n",
       "      <th>0</th>\n",
       "      <td>2023-01-11 17:42:00</td>\n",
       "      <td>13.35</td>\n",
       "      <td>4.43</td>\n",
       "      <td>7</td>\n",
       "      <td>5.157143</td>\n",
       "      <td>2023-01-11</td>\n",
       "      <td>0.0</td>\n",
       "      <td>b\"  \\x88\\r!v\\xc3\\x14\\x13\\x1dy\\x80\\xea\\x17\\xf0'\"</td>\n",
       "      <td>NaT</td>\n",
       "      <td>1.00</td>\n",
       "      <td>...</td>\n",
       "      <td>4.430</td>\n",
       "      <td>4.43</td>\n",
       "      <td>4.200098</td>\n",
       "      <td>1.0</td>\n",
       "      <td>1.0</td>\n",
       "      <td>1.0</td>\n",
       "      <td>1.0</td>\n",
       "      <td>1</td>\n",
       "      <td>1.0</td>\n",
       "      <td>0.0</td>\n",
       "    </tr>\n",
       "    <tr>\n",
       "      <th>1</th>\n",
       "      <td>2023-01-11 19:54:21</td>\n",
       "      <td>6.40</td>\n",
       "      <td>0.89</td>\n",
       "      <td>1</td>\n",
       "      <td>0.094167</td>\n",
       "      <td>2023-01-11</td>\n",
       "      <td>0.0</td>\n",
       "      <td>b\"  \\x88\\r!v\\xc3\\x14\\x13\\x1dy\\x80\\xea\\x17\\xf0'\"</td>\n",
       "      <td>2023-01-11 18:25:15</td>\n",
       "      <td>2.99</td>\n",
       "      <td>...</td>\n",
       "      <td>2.660</td>\n",
       "      <td>5.32</td>\n",
       "      <td>4.200098</td>\n",
       "      <td>2.0</td>\n",
       "      <td>2.0</td>\n",
       "      <td>2.0</td>\n",
       "      <td>2.0</td>\n",
       "      <td>2</td>\n",
       "      <td>2.0</td>\n",
       "      <td>0.0</td>\n",
       "    </tr>\n",
       "    <tr>\n",
       "      <th>2</th>\n",
       "      <td>2023-01-11 19:54:40</td>\n",
       "      <td>27.00</td>\n",
       "      <td>0.89</td>\n",
       "      <td>1</td>\n",
       "      <td>0.088889</td>\n",
       "      <td>2023-01-11</td>\n",
       "      <td>0.0</td>\n",
       "      <td>b\"  \\x88\\r!v\\xc3\\x14\\x13\\x1dy\\x80\\xea\\x17\\xf0'\"</td>\n",
       "      <td>2023-01-11 18:25:15</td>\n",
       "      <td>2.99</td>\n",
       "      <td>...</td>\n",
       "      <td>2.070</td>\n",
       "      <td>6.21</td>\n",
       "      <td>4.200098</td>\n",
       "      <td>3.0</td>\n",
       "      <td>3.0</td>\n",
       "      <td>3.0</td>\n",
       "      <td>3.0</td>\n",
       "      <td>2</td>\n",
       "      <td>2.0</td>\n",
       "      <td>0.0</td>\n",
       "    </tr>\n",
       "    <tr>\n",
       "      <th>3</th>\n",
       "      <td>2023-01-12 18:23:56</td>\n",
       "      <td>4.87</td>\n",
       "      <td>4.43</td>\n",
       "      <td>4</td>\n",
       "      <td>1.101111</td>\n",
       "      <td>2023-01-12</td>\n",
       "      <td>0.0</td>\n",
       "      <td>b\"  \\x88\\r!v\\xc3\\x14\\x13\\x1dy\\x80\\xea\\x17\\xf0'\"</td>\n",
       "      <td>2023-01-11 18:25:15</td>\n",
       "      <td>2.99</td>\n",
       "      <td>...</td>\n",
       "      <td>2.660</td>\n",
       "      <td>10.64</td>\n",
       "      <td>4.200098</td>\n",
       "      <td>4.0</td>\n",
       "      <td>4.0</td>\n",
       "      <td>4.0</td>\n",
       "      <td>4.0</td>\n",
       "      <td>2</td>\n",
       "      <td>2.0</td>\n",
       "      <td>0.0</td>\n",
       "    </tr>\n",
       "    <tr>\n",
       "      <th>4</th>\n",
       "      <td>2023-01-12 18:30:46</td>\n",
       "      <td>23.07</td>\n",
       "      <td>0.89</td>\n",
       "      <td>3</td>\n",
       "      <td>1.153889</td>\n",
       "      <td>2023-01-12</td>\n",
       "      <td>0.0</td>\n",
       "      <td>b\"  \\x88\\r!v\\xc3\\x14\\x13\\x1dy\\x80\\xea\\x17\\xf0'\"</td>\n",
       "      <td>2023-01-11 18:25:15</td>\n",
       "      <td>2.99</td>\n",
       "      <td>...</td>\n",
       "      <td>2.306</td>\n",
       "      <td>11.53</td>\n",
       "      <td>4.200098</td>\n",
       "      <td>5.0</td>\n",
       "      <td>5.0</td>\n",
       "      <td>5.0</td>\n",
       "      <td>5.0</td>\n",
       "      <td>2</td>\n",
       "      <td>2.0</td>\n",
       "      <td>0.0</td>\n",
       "    </tr>\n",
       "  </tbody>\n",
       "</table>\n",
       "<p>5 rows × 41 columns</p>\n",
       "</div>"
      ],
      "text/plain": [
       "         betTimestamp  odds_units  stake_gbp  count_legs  hours_to_event  \\\n",
       "0 2023-01-11 17:42:00       13.35       4.43           7        5.157143   \n",
       "1 2023-01-11 19:54:21        6.40       0.89           1        0.094167   \n",
       "2 2023-01-11 19:54:40       27.00       0.89           1        0.088889   \n",
       "3 2023-01-12 18:23:56        4.87       4.43           4        1.101111   \n",
       "4 2023-01-12 18:30:46       23.07       0.89           3        1.153889   \n",
       "\n",
       "      betDate  edge                                encrypted_user_no  \\\n",
       "0  2023-01-11   0.0  b\"  \\x88\\r!v\\xc3\\x14\\x13\\x1dy\\x80\\xea\\x17\\xf0'\"   \n",
       "1  2023-01-11   0.0  b\"  \\x88\\r!v\\xc3\\x14\\x13\\x1dy\\x80\\xea\\x17\\xf0'\"   \n",
       "2  2023-01-11   0.0  b\"  \\x88\\r!v\\xc3\\x14\\x13\\x1dy\\x80\\xea\\x17\\xf0'\"   \n",
       "3  2023-01-12   0.0  b\"  \\x88\\r!v\\xc3\\x14\\x13\\x1dy\\x80\\xea\\x17\\xf0'\"   \n",
       "4  2023-01-12   0.0  b\"  \\x88\\r!v\\xc3\\x14\\x13\\x1dy\\x80\\xea\\x17\\xf0'\"   \n",
       "\n",
       "          insert_date  riskexposureprematch  ...  avg_stake_gbp_until_now  \\\n",
       "0                 NaT                  1.00  ...                    4.430   \n",
       "1 2023-01-11 18:25:15                  2.99  ...                    2.660   \n",
       "2 2023-01-11 18:25:15                  2.99  ...                    2.070   \n",
       "3 2023-01-11 18:25:15                  2.99  ...                    2.660   \n",
       "4 2023-01-11 18:25:15                  2.99  ...                    2.306   \n",
       "\n",
       "   total_stake_gbp_until_now  std_stake_gbp_until_now  bets_in_last_1_week(s)  \\\n",
       "0                       4.43                 4.200098                     1.0   \n",
       "1                       5.32                 4.200098                     2.0   \n",
       "2                       6.21                 4.200098                     3.0   \n",
       "3                      10.64                 4.200098                     4.0   \n",
       "4                      11.53                 4.200098                     5.0   \n",
       "\n",
       "   bets_in_last_2_week(s)  bets_in_last_3_week(s)  bets_in_last_4_week(s)  \\\n",
       "0                     1.0                     1.0                     1.0   \n",
       "1                     2.0                     2.0                     2.0   \n",
       "2                     3.0                     3.0                     3.0   \n",
       "3                     4.0                     4.0                     4.0   \n",
       "4                     5.0                     5.0                     5.0   \n",
       "\n",
       "   num_sequences_until_now  num_bets_in_prev_sequence  \\\n",
       "0                        1                        1.0   \n",
       "1                        2                        2.0   \n",
       "2                        2                        2.0   \n",
       "3                        2                        2.0   \n",
       "4                        2                        2.0   \n",
       "\n",
       "   time_diff_of_riskexposure  \n",
       "0                        0.0  \n",
       "1                        0.0  \n",
       "2                        0.0  \n",
       "3                        0.0  \n",
       "4                        0.0  \n",
       "\n",
       "[5 rows x 41 columns]"
      ]
     },
     "execution_count": 34,
     "metadata": {},
     "output_type": "execute_result"
    }
   ],
   "source": [
    "print(merged_df.shape)\n",
    "merged_df.head()"
   ]
  },
  {
   "cell_type": "code",
   "execution_count": 33,
   "metadata": {},
   "outputs": [],
   "source": [
    "# save merged_df to csv\n",
    "merged_df.to_csv('merged_df.csv', index=False)"
   ]
  },
  {
   "cell_type": "code",
   "execution_count": 2,
   "metadata": {},
   "outputs": [],
   "source": [
    "orig_merged_df = pd.read_csv('merged_df.csv')\n",
    "\n",
    "merged_df = orig_merged_df.copy()"
   ]
  },
  {
   "cell_type": "code",
   "execution_count": 3,
   "metadata": {},
   "outputs": [
    {
     "name": "stdout",
     "output_type": "stream",
     "text": [
      "Index(['betTimestamp', 'odds_units', 'stake_gbp', 'count_legs',\n",
      "       'hours_to_event', 'betDate', 'edge', 'encrypted_user_no', 'insert_date',\n",
      "       'riskexposureprematch', 'betTimestamp_diff', 'odds_units_diff',\n",
      "       'stake_gbp_diff', 'count_legs_diff', 'hours_to_event_diff',\n",
      "       'riskexposureprematch_diff', 'total_bets', 'avg_riskexposureprematch',\n",
      "       'avg_odds_units', 'avg_stake_gbp', 'total_stake_gbp', 'month', 'day',\n",
      "       'day_of_week', 'hour', 'bet_sequence_count', 'total_bets_in_sequence',\n",
      "       'total_bets_until_now', 'avg_riskexposureprematch_until_now',\n",
      "       'avg_odds_units_until_now', 'avg_count_legs_until_now',\n",
      "       'avg_stake_gbp_until_now', 'total_stake_gbp_until_now',\n",
      "       'std_stake_gbp_until_now', 'bets_in_last_1_week(s)',\n",
      "       'bets_in_last_2_week(s)', 'bets_in_last_3_week(s)',\n",
      "       'bets_in_last_4_week(s)', 'num_sequences_until_now',\n",
      "       'num_bets_in_prev_sequence', 'time_diff_of_riskexposure'],\n",
      "      dtype='object')\n",
      "(2476065, 41)\n"
     ]
    }
   ],
   "source": [
    "print(merged_df.columns)\n",
    "print(merged_df.shape)"
   ]
  },
  {
   "cell_type": "code",
   "execution_count": 28,
   "metadata": {},
   "outputs": [
    {
     "name": "stdout",
     "output_type": "stream",
     "text": [
      "Column: betTimestamp\n",
      "Max Value: 2023-05-01 23:59:49\n",
      "Min Value: 2023-01-01 04:41:06\n",
      "-------------------------------\n",
      "Column: odds_units\n",
      "Max Value: 13084690.27\n",
      "Min Value: 1.01\n",
      "-------------------------------\n",
      "Column: stake_gbp\n",
      "Max Value: 37407.54\n",
      "Min Value: 0.0\n",
      "-------------------------------\n",
      "Column: count_legs\n",
      "Max Value: 40\n",
      "Min Value: 1\n",
      "-------------------------------\n",
      "Column: hours_to_event\n",
      "Max Value: 24287.13027777778\n",
      "Min Value: 0.0002777777777777\n",
      "-------------------------------\n",
      "Column: betDate\n",
      "Max Value: 2023-05-01\n",
      "Min Value: 2023-01-01\n",
      "-------------------------------\n",
      "Column: edge\n",
      "Max Value: 71.9672131147541\n",
      "Min Value: -77.61938702779759\n",
      "-------------------------------\n",
      "Column: encrypted_user_no\n",
      "Max Value: b'~}\\xa7(\\xb6\\x19\\xa38E@\\xbc\\xa5\\x9f\\xe6x\\x0e'\n",
      "Min Value: b\"  \\x88\\r!v\\xc3\\x14\\x13\\x1dy\\x80\\xea\\x17\\xf0'\"\n",
      "-------------------------------\n",
      "Column: insert_date\n",
      "Max Value: 2023-05-01 16:37:01\n",
      "Min Value: 2023-01-01 00:04:05\n",
      "-------------------------------\n",
      "Column: riskexposureracing\n",
      "Max Value: 10.0\n",
      "Min Value: 0.0\n",
      "-------------------------------\n",
      "Column: riskexposureprematch\n",
      "Max Value: 50.0\n",
      "Min Value: 0.01\n",
      "-------------------------------\n",
      "Column: riskexposurelivebetting\n",
      "Max Value: 50.0\n",
      "Min Value: 0.0\n",
      "-------------------------------\n",
      "Column: total_bets\n",
      "Max Value: 71649\n",
      "Min Value: 1\n",
      "-------------------------------\n",
      "Column: avg_riskexposureprematch\n",
      "Max Value: 50.0\n",
      "Min Value: 0.01\n",
      "-------------------------------\n",
      "Column: avg_odds_units\n",
      "Max Value: 7735287.51197561\n",
      "Min Value: 1.07\n",
      "-------------------------------\n",
      "Column: avg_stake_gbp\n",
      "Max Value: 10291.801333333333\n",
      "Min Value: 0.07931506849315069\n",
      "-------------------------------\n",
      "Column: total_stake_gbp\n",
      "Max Value: 990550.15\n",
      "Min Value: 0.11\n",
      "-------------------------------\n",
      "Column: month\n",
      "Max Value: 5\n",
      "Min Value: 1\n",
      "-------------------------------\n",
      "Column: day\n",
      "Max Value: 31\n",
      "Min Value: 1\n",
      "-------------------------------\n",
      "Column: day_of_week\n",
      "Max Value: 6\n",
      "Min Value: 0\n",
      "-------------------------------\n",
      "Column: hour\n",
      "Max Value: 23\n",
      "Min Value: 0\n",
      "-------------------------------\n",
      "Column: bet_sequence_count\n",
      "Max Value: 65867\n",
      "Min Value: 1\n",
      "-------------------------------\n",
      "Column: total_bets_in_sequence\n",
      "Max Value: 65867\n",
      "Min Value: 1\n",
      "-------------------------------\n",
      "Column: total_bets_until_now\n",
      "Max Value: 71649\n",
      "Min Value: 1\n",
      "-------------------------------\n",
      "Column: avg_riskexposureprematch_until_now\n",
      "Max Value: 50.0\n",
      "Min Value: 0.01\n",
      "-------------------------------\n",
      "Column: avg_odds_units_until_now\n",
      "Max Value: 9961932.0\n",
      "Min Value: 1.03\n",
      "-------------------------------\n",
      "Column: avg_count_legs_until_now\n",
      "Max Value: 34.357142857142854\n",
      "Min Value: 1.0\n",
      "-------------------------------\n",
      "Column: avg_stake_gbp_until_now\n",
      "Max Value: 20344.4175\n",
      "Min Value: 0.07931506849315069\n",
      "-------------------------------\n",
      "Column: total_stake_gbp_until_now\n",
      "Max Value: 990550.15\n",
      "Min Value: 0.08\n",
      "-------------------------------\n",
      "Column: std_stake_gbp_until_now\n",
      "Max Value: 8683.97459119589\n",
      "Min Value: 0.0\n",
      "-------------------------------\n",
      "Column: bets_in_last_1_week(s)\n",
      "Max Value: 14712.0\n",
      "Min Value: 1.0\n",
      "-------------------------------\n",
      "Column: bets_in_last_2_week(s)\n",
      "Max Value: 22763.0\n",
      "Min Value: 1.0\n",
      "-------------------------------\n",
      "Column: bets_in_last_3_week(s)\n",
      "Max Value: 31370.0\n",
      "Min Value: 1.0\n",
      "-------------------------------\n",
      "Column: bets_in_last_4_week(s)\n",
      "Max Value: 39484.0\n",
      "Min Value: 1.0\n",
      "-------------------------------\n",
      "Column: num_sequences_until_now\n",
      "Max Value: 25777\n",
      "Min Value: 1\n",
      "-------------------------------\n",
      "Column: num_bets_in_prev_sequence\n",
      "Max Value: 65868.0\n",
      "Min Value: 0.0\n",
      "-------------------------------\n",
      "Column: time_diff_of_riskexposure\n",
      "Max Value: 7560619.0\n",
      "Min Value: 0.0\n",
      "-------------------------------\n"
     ]
    }
   ],
   "source": [
    "# Assuming you have a DataFrame named 'bets_encrypted' containing the dataset\n",
    "# Calculate the maximum values for each column\n",
    "max_values = merged_df.max()\n",
    "\n",
    "# Calculate the minimum values for each column\n",
    "min_values = merged_df.min()\n",
    "\n",
    "# Print the maximum and minimum values for each column\n",
    "for column in merged_df.columns:\n",
    "    print(f\"Column: {column}\")\n",
    "    print(f\"Max Value: {max_values[column]}\")\n",
    "    print(f\"Min Value: {min_values[column]}\")\n",
    "    print(\"-------------------------------\")"
   ]
  },
  {
   "cell_type": "code",
   "execution_count": 29,
   "metadata": {},
   "outputs": [
    {
     "data": {
      "image/png": "[encoded data removed]",
      "text/plain": [
       "<Figure size 1000x600 with 1 Axes>"
      ]
     },
     "metadata": {},
     "output_type": "display_data"
    }
   ],
   "source": [
    "# Group by user, drop duplicates within each group, and reset index\n",
    "unique_sequences_df = merged_df.groupby('encrypted_user_no').apply(lambda x: x.drop_duplicates(subset='num_bets_in_prev_sequence')).reset_index(drop=True)\n",
    "\n",
    "# Filter values under 250\n",
    "filtered_df = unique_sequences_df[unique_sequences_df['num_bets_in_prev_sequence'] < 50]\n",
    "\n",
    "# Plot histogram for the filtered values\n",
    "plt.figure(figsize=(10, 6))\n",
    "filtered_df['num_bets_in_prev_sequence'].hist(bins=50, range=(0,50))\n",
    "plt.xlabel('num_bets_in_prev_sequence')\n",
    "plt.ylabel('Frequency')\n",
    "plt.title('Distribution of Num bet per sequence (<50)')\n",
    "plt.grid(False)\n",
    "plt.show()"
   ]
  },
  {
   "cell_type": "code",
   "execution_count": 26,
   "metadata": {},
   "outputs": [
    {
     "data": {
      "image/png": "[encoded data removed]",
      "text/plain": [
       "<Figure size 1800x700 with 2 Axes>"
      ]
     },
     "metadata": {},
     "output_type": "display_data"
    }
   ],
   "source": [
    "from matplotlib.ticker import FuncFormatter, MaxNLocator\n",
    "\n",
    "# Formatter function\n",
    "def format_as_integer(x, _):\n",
    "    return f\"{int(x)}\"\n",
    "\n",
    "# Filter for values under a threshold, for example, 50\n",
    "threshold = 50\n",
    "filtered_1_week_counts = merged_df[merged_df['bets_in_last_1_week(s)'] < threshold].groupby('bets_in_last_1_week(s)').size()\n",
    "filtered_2_week_counts = merged_df[merged_df['bets_in_last_2_week(s)'] < threshold].groupby('bets_in_last_2_week(s)').size()\n",
    "\n",
    "# Plotting\n",
    "plt.figure(figsize=(18, 7))\n",
    "\n",
    "# Plot for 1 week\n",
    "plt.subplot(1, 2, 1)\n",
    "filtered_1_week_counts.plot(kind='bar')\n",
    "plt.xlabel('Number of Bets in 1 Week')\n",
    "plt.ylabel('Count of Users')\n",
    "plt.title('Distribution of Users by Bets in Last 1 Week')\n",
    "plt.xticks(rotation=45)  # Rotate x-axis labels for better readability\n",
    "ax1 = plt.gca()\n",
    "ax1.xaxis.set_major_formatter(FuncFormatter(format_as_integer))  # Format x-axis labels as integers\n",
    "ax1.xaxis.set_major_locator(MaxNLocator(nbins='auto', integer=True, steps=[5]))  # Set major ticks every 5th value\n",
    "\n",
    "# Plot for 2 weeks\n",
    "plt.subplot(1, 2, 2)\n",
    "filtered_2_week_counts.plot(kind='bar')\n",
    "plt.xlabel('Number of Bets in 2 Weeks')\n",
    "plt.ylabel('Count of Users')\n",
    "plt.title('Distribution of Users by Bets in Last 2 Weeks')\n",
    "plt.xticks(rotation=45)  # Rotate x-axis labels for better readability\n",
    "ax2 = plt.gca()\n",
    "ax2.xaxis.set_major_formatter(FuncFormatter(format_as_integer))  # Format x-axis labels as integers\n",
    "ax2.xaxis.set_major_locator(MaxNLocator(nbins='auto', integer=True, steps=[5]))  # Set major ticks every 5th value\n",
    "\n",
    "plt.tight_layout()\n",
    "plt.show()\n"
   ]
  },
  {
   "cell_type": "code",
   "execution_count": 28,
   "metadata": {},
   "outputs": [
    {
     "data": {
      "image/png": "[encoded data removed]",
      "text/plain": [
       "<Figure size 1800x700 with 2 Axes>"
      ]
     },
     "metadata": {},
     "output_type": "display_data"
    }
   ],
   "source": [
    "from matplotlib.ticker import FuncFormatter, MaxNLocator\n",
    "\n",
    "# Formatter function\n",
    "def format_as_integer(x, _):\n",
    "    return f\"{int(x)}\"\n",
    "\n",
    "# Filter for values under a threshold, for example, 50\n",
    "threshold = 100\n",
    "filtered_1_week_counts = merged_df[merged_df['bets_in_last_1_week(s)'] < threshold].groupby('bets_in_last_1_week(s)').size()\n",
    "filtered_2_week_counts = merged_df[merged_df['bets_in_last_2_week(s)'] < threshold].groupby('bets_in_last_2_week(s)').size()\n",
    "\n",
    "# Plotting\n",
    "plt.figure(figsize=(18, 7))\n",
    "\n",
    "# Plot for 1 week\n",
    "plt.subplot(1, 2, 1)\n",
    "filtered_1_week_counts.plot(kind='bar')\n",
    "plt.xlabel('Number of Bets in 1 Week')\n",
    "plt.ylabel('Count of Users')\n",
    "plt.title('Distribution of Users by Bets in Last 1 Week')\n",
    "plt.xticks(rotation=45)  # Rotate x-axis labels for better readability\n",
    "ax1 = plt.gca()\n",
    "ax1.xaxis.set_major_formatter(FuncFormatter(format_as_integer))  # Format x-axis labels as integers\n",
    "ax1.xaxis.set_major_locator(MaxNLocator(nbins='auto', integer=True, steps=[10]))  # Set major ticks every 5th value\n",
    "\n",
    "# Plot for 2 weeks\n",
    "plt.subplot(1, 2, 2)\n",
    "filtered_2_week_counts.plot(kind='bar')\n",
    "plt.xlabel('Number of Bets in 2 Weeks')\n",
    "plt.ylabel('Count of Users')\n",
    "plt.title('Distribution of Users by Bets in Last 2 Weeks')\n",
    "plt.xticks(rotation=45)  # Rotate x-axis labels for better readability\n",
    "ax2 = plt.gca()\n",
    "ax2.xaxis.set_major_formatter(FuncFormatter(format_as_integer))  # Format x-axis labels as integers\n",
    "ax2.xaxis.set_major_locator(MaxNLocator(nbins='auto', integer=True, steps=[10]))  # Set major ticks every 5th value\n",
    "\n",
    "plt.tight_layout()\n",
    "plt.show()\n"
   ]
  },
  {
   "cell_type": "code",
   "execution_count": 15,
   "metadata": {},
   "outputs": [],
   "source": [
    "#load the labelled data\n",
    "\n",
    "labelled_df = pd.read_csv('labelled_df.csv')\n"
   ]
  },
  {
   "cell_type": "code",
   "execution_count": 18,
   "metadata": {},
   "outputs": [
    {
     "data": {
      "image/png": "[encoded data removed]",
      "text/plain": [
       "<Figure size 1000x600 with 1 Axes>"
      ]
     },
     "metadata": {},
     "output_type": "display_data"
    }
   ],
   "source": [
    "\n",
    "# Detect label changes and sum the rows before the change for each user\n",
    "def count_bets_before_change(group):\n",
    "    change_detected = group['high_net_worth'].diff().abs() == 1\n",
    "    if change_detected.any():\n",
    "        return change_detected.idxmax() - group.index[0]\n",
    "    else:\n",
    "        return None\n",
    "\n",
    "bets_before_change = labelled_df.groupby('encrypted_user_no').apply(count_bets_before_change).dropna()\n",
    "\n",
    "# Filter values under 2500\n",
    "filtered_bets = bets_before_change[bets_before_change < 500]\n",
    "\n",
    "# Plotting\n",
    "plt.figure(figsize=(10, 6))\n",
    "filtered_bets.hist(bins=30)\n",
    "plt.xlabel('Number of Bets Before Label Change')\n",
    "plt.ylabel('Count of Users')\n",
    "plt.title('Distribution of Bets Before High Net Worth Label Change')\n",
    "plt.grid(False)\n",
    "plt.show()\n"
   ]
  },
  {
   "cell_type": "code",
   "execution_count": 30,
   "metadata": {},
   "outputs": [
    {
     "data": {
      "image/png": "[encoded data removed]",
      "text/plain": [
       "<Figure size 1000x600 with 1 Axes>"
      ]
     },
     "metadata": {},
     "output_type": "display_data"
    }
   ],
   "source": [
    "\n",
    "# Detect label changes and sum the rows before the change for each user\n",
    "def count_bets_before_change(group):\n",
    "    change_detected = group['high_net_worth'].diff().abs() == 1\n",
    "    if change_detected.any():\n",
    "        return change_detected.idxmax() - group.index[0]\n",
    "    else:\n",
    "        return None\n",
    "\n",
    "bets_before_change = labelled_df.groupby('encrypted_user_no').apply(count_bets_before_change).dropna()\n",
    "\n",
    "# Filter values under 2500\n",
    "filtered_bets = bets_before_change[bets_before_change < 100]\n",
    "\n",
    "# Plotting\n",
    "plt.figure(figsize=(10, 6))\n",
    "filtered_bets.hist(bins=10)\n",
    "plt.xlabel('Number of Bets Before Label Change')\n",
    "plt.ylabel('Count of Users')\n",
    "plt.title('Distribution of Bets Before High Net Worth Label Change')\n",
    "plt.grid(False)\n",
    "plt.show()\n"
   ]
  }
 ],
 "metadata": {
  "kernelspec": {
   "display_name": "DSML00",
   "language": "python",
   "name": "python3"
  },
  "language_info": {
   "codemirror_mode": {
    "name": "ipython",
    "version": 3
   },
   "file_extension": ".py",
   "mimetype": "text/x-python",
   "name": "python",
   "nbconvert_exporter": "python",
   "pygments_lexer": "ipython3",
   "version": "3.10.8"
  },
  "orig_nbformat": 4
 },
 "nbformat": 4,
 "nbformat_minor": 2
}
